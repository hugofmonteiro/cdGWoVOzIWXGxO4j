{
 "cells": [
  {
   "cell_type": "markdown",
   "id": "59686ac3",
   "metadata": {},
   "source": [
    "# Term Deposit Prediction"
   ]
  },
  {
   "cell_type": "markdown",
   "id": "17017d4a",
   "metadata": {},
   "source": [
    "- EDA analysis of variables in the raw dataset"
   ]
  },
  {
   "cell_type": "code",
   "execution_count": 1,
   "id": "8d516d9c",
   "metadata": {},
   "outputs": [
    {
     "name": "stderr",
     "output_type": "stream",
     "text": [
      "/opt/miniconda3/lib/python3.9/site-packages/scipy/__init__.py:146: UserWarning: A NumPy version >=1.17.3 and <1.25.0 is required for this version of SciPy (detected version 1.26.0\n",
      "  warnings.warn(f\"A NumPy version >={np_minversion} and <{np_maxversion}\"\n"
     ]
    }
   ],
   "source": [
    "import pandas as pd\n",
    "import numpy as np\n",
    "import seaborn as sn"
   ]
  },
  {
   "cell_type": "markdown",
   "id": "74e4208a",
   "metadata": {},
   "source": [
    "- Importing the dataset"
   ]
  },
  {
   "cell_type": "code",
   "execution_count": 172,
   "id": "ed8e52c9",
   "metadata": {},
   "outputs": [],
   "source": [
    "df = pd.read_csv('../data/term-deposit-marketing-2020.csv')"
   ]
  },
  {
   "cell_type": "markdown",
   "id": "b7f1199e",
   "metadata": {},
   "source": [
    "- Checking the shape of the dataframe"
   ]
  },
  {
   "cell_type": "code",
   "execution_count": 144,
   "id": "ce9a50a2",
   "metadata": {},
   "outputs": [
    {
     "data": {
      "text/plain": [
       "(40000, 14)"
      ]
     },
     "execution_count": 144,
     "metadata": {},
     "output_type": "execute_result"
    }
   ],
   "source": [
    "df.shape"
   ]
  },
  {
   "cell_type": "markdown",
   "id": "261b768d",
   "metadata": {},
   "source": [
    "- Checking dataframe structure"
   ]
  },
  {
   "cell_type": "code",
   "execution_count": 145,
   "id": "c6397791",
   "metadata": {
    "scrolled": true
   },
   "outputs": [
    {
     "name": "stdout",
     "output_type": "stream",
     "text": [
      "<class 'pandas.core.frame.DataFrame'>\n",
      "RangeIndex: 40000 entries, 0 to 39999\n",
      "Data columns (total 14 columns):\n",
      " #   Column     Non-Null Count  Dtype \n",
      "---  ------     --------------  ----- \n",
      " 0   age        40000 non-null  int64 \n",
      " 1   job        40000 non-null  object\n",
      " 2   marital    40000 non-null  object\n",
      " 3   education  40000 non-null  object\n",
      " 4   default    40000 non-null  object\n",
      " 5   balance    40000 non-null  int64 \n",
      " 6   housing    40000 non-null  object\n",
      " 7   loan       40000 non-null  object\n",
      " 8   contact    40000 non-null  object\n",
      " 9   day        40000 non-null  int64 \n",
      " 10  month      40000 non-null  object\n",
      " 11  duration   40000 non-null  int64 \n",
      " 12  campaign   40000 non-null  int64 \n",
      " 13  y          40000 non-null  object\n",
      "dtypes: int64(5), object(9)\n",
      "memory usage: 4.3+ MB\n"
     ]
    }
   ],
   "source": [
    "df.info()"
   ]
  },
  {
   "cell_type": "markdown",
   "id": "bbbaf670",
   "metadata": {},
   "source": [
    "- Checking the beginning of the dataframe"
   ]
  },
  {
   "cell_type": "code",
   "execution_count": 146,
   "id": "a493144b",
   "metadata": {},
   "outputs": [
    {
     "data": {
      "text/html": [
       "<div>\n",
       "<style scoped>\n",
       "    .dataframe tbody tr th:only-of-type {\n",
       "        vertical-align: middle;\n",
       "    }\n",
       "\n",
       "    .dataframe tbody tr th {\n",
       "        vertical-align: top;\n",
       "    }\n",
       "\n",
       "    .dataframe thead th {\n",
       "        text-align: right;\n",
       "    }\n",
       "</style>\n",
       "<table border=\"1\" class=\"dataframe\">\n",
       "  <thead>\n",
       "    <tr style=\"text-align: right;\">\n",
       "      <th></th>\n",
       "      <th>age</th>\n",
       "      <th>job</th>\n",
       "      <th>marital</th>\n",
       "      <th>education</th>\n",
       "      <th>default</th>\n",
       "      <th>balance</th>\n",
       "      <th>housing</th>\n",
       "      <th>loan</th>\n",
       "      <th>contact</th>\n",
       "      <th>day</th>\n",
       "      <th>month</th>\n",
       "      <th>duration</th>\n",
       "      <th>campaign</th>\n",
       "      <th>y</th>\n",
       "    </tr>\n",
       "  </thead>\n",
       "  <tbody>\n",
       "    <tr>\n",
       "      <th>0</th>\n",
       "      <td>58</td>\n",
       "      <td>management</td>\n",
       "      <td>married</td>\n",
       "      <td>tertiary</td>\n",
       "      <td>no</td>\n",
       "      <td>2143</td>\n",
       "      <td>yes</td>\n",
       "      <td>no</td>\n",
       "      <td>unknown</td>\n",
       "      <td>5</td>\n",
       "      <td>may</td>\n",
       "      <td>261</td>\n",
       "      <td>1</td>\n",
       "      <td>no</td>\n",
       "    </tr>\n",
       "    <tr>\n",
       "      <th>1</th>\n",
       "      <td>44</td>\n",
       "      <td>technician</td>\n",
       "      <td>single</td>\n",
       "      <td>secondary</td>\n",
       "      <td>no</td>\n",
       "      <td>29</td>\n",
       "      <td>yes</td>\n",
       "      <td>no</td>\n",
       "      <td>unknown</td>\n",
       "      <td>5</td>\n",
       "      <td>may</td>\n",
       "      <td>151</td>\n",
       "      <td>1</td>\n",
       "      <td>no</td>\n",
       "    </tr>\n",
       "    <tr>\n",
       "      <th>2</th>\n",
       "      <td>33</td>\n",
       "      <td>entrepreneur</td>\n",
       "      <td>married</td>\n",
       "      <td>secondary</td>\n",
       "      <td>no</td>\n",
       "      <td>2</td>\n",
       "      <td>yes</td>\n",
       "      <td>yes</td>\n",
       "      <td>unknown</td>\n",
       "      <td>5</td>\n",
       "      <td>may</td>\n",
       "      <td>76</td>\n",
       "      <td>1</td>\n",
       "      <td>no</td>\n",
       "    </tr>\n",
       "    <tr>\n",
       "      <th>3</th>\n",
       "      <td>47</td>\n",
       "      <td>blue-collar</td>\n",
       "      <td>married</td>\n",
       "      <td>unknown</td>\n",
       "      <td>no</td>\n",
       "      <td>1506</td>\n",
       "      <td>yes</td>\n",
       "      <td>no</td>\n",
       "      <td>unknown</td>\n",
       "      <td>5</td>\n",
       "      <td>may</td>\n",
       "      <td>92</td>\n",
       "      <td>1</td>\n",
       "      <td>no</td>\n",
       "    </tr>\n",
       "    <tr>\n",
       "      <th>4</th>\n",
       "      <td>33</td>\n",
       "      <td>unknown</td>\n",
       "      <td>single</td>\n",
       "      <td>unknown</td>\n",
       "      <td>no</td>\n",
       "      <td>1</td>\n",
       "      <td>no</td>\n",
       "      <td>no</td>\n",
       "      <td>unknown</td>\n",
       "      <td>5</td>\n",
       "      <td>may</td>\n",
       "      <td>198</td>\n",
       "      <td>1</td>\n",
       "      <td>no</td>\n",
       "    </tr>\n",
       "  </tbody>\n",
       "</table>\n",
       "</div>"
      ],
      "text/plain": [
       "   age           job  marital  education default  balance housing loan  \\\n",
       "0   58    management  married   tertiary      no     2143     yes   no   \n",
       "1   44    technician   single  secondary      no       29     yes   no   \n",
       "2   33  entrepreneur  married  secondary      no        2     yes  yes   \n",
       "3   47   blue-collar  married    unknown      no     1506     yes   no   \n",
       "4   33       unknown   single    unknown      no        1      no   no   \n",
       "\n",
       "   contact  day month  duration  campaign   y  \n",
       "0  unknown    5   may       261         1  no  \n",
       "1  unknown    5   may       151         1  no  \n",
       "2  unknown    5   may        76         1  no  \n",
       "3  unknown    5   may        92         1  no  \n",
       "4  unknown    5   may       198         1  no  "
      ]
     },
     "execution_count": 146,
     "metadata": {},
     "output_type": "execute_result"
    }
   ],
   "source": [
    "df.head()"
   ]
  },
  {
   "cell_type": "markdown",
   "id": "4ebd7bd5",
   "metadata": {},
   "source": [
    "- Checking for missing values"
   ]
  },
  {
   "cell_type": "code",
   "execution_count": 147,
   "id": "d587d44f",
   "metadata": {},
   "outputs": [
    {
     "data": {
      "text/html": [
       "<div>\n",
       "<style scoped>\n",
       "    .dataframe tbody tr th:only-of-type {\n",
       "        vertical-align: middle;\n",
       "    }\n",
       "\n",
       "    .dataframe tbody tr th {\n",
       "        vertical-align: top;\n",
       "    }\n",
       "\n",
       "    .dataframe thead th {\n",
       "        text-align: right;\n",
       "    }\n",
       "</style>\n",
       "<table border=\"1\" class=\"dataframe\">\n",
       "  <thead>\n",
       "    <tr style=\"text-align: right;\">\n",
       "      <th></th>\n",
       "      <th>age</th>\n",
       "      <th>job</th>\n",
       "      <th>marital</th>\n",
       "      <th>education</th>\n",
       "      <th>default</th>\n",
       "      <th>balance</th>\n",
       "      <th>housing</th>\n",
       "      <th>loan</th>\n",
       "      <th>contact</th>\n",
       "      <th>day</th>\n",
       "      <th>month</th>\n",
       "      <th>duration</th>\n",
       "      <th>campaign</th>\n",
       "      <th>y</th>\n",
       "    </tr>\n",
       "  </thead>\n",
       "  <tbody>\n",
       "    <tr>\n",
       "      <th>0</th>\n",
       "      <td>False</td>\n",
       "      <td>False</td>\n",
       "      <td>False</td>\n",
       "      <td>False</td>\n",
       "      <td>False</td>\n",
       "      <td>False</td>\n",
       "      <td>False</td>\n",
       "      <td>False</td>\n",
       "      <td>False</td>\n",
       "      <td>False</td>\n",
       "      <td>False</td>\n",
       "      <td>False</td>\n",
       "      <td>False</td>\n",
       "      <td>False</td>\n",
       "    </tr>\n",
       "    <tr>\n",
       "      <th>1</th>\n",
       "      <td>False</td>\n",
       "      <td>False</td>\n",
       "      <td>False</td>\n",
       "      <td>False</td>\n",
       "      <td>False</td>\n",
       "      <td>False</td>\n",
       "      <td>False</td>\n",
       "      <td>False</td>\n",
       "      <td>False</td>\n",
       "      <td>False</td>\n",
       "      <td>False</td>\n",
       "      <td>False</td>\n",
       "      <td>False</td>\n",
       "      <td>False</td>\n",
       "    </tr>\n",
       "    <tr>\n",
       "      <th>2</th>\n",
       "      <td>False</td>\n",
       "      <td>False</td>\n",
       "      <td>False</td>\n",
       "      <td>False</td>\n",
       "      <td>False</td>\n",
       "      <td>False</td>\n",
       "      <td>False</td>\n",
       "      <td>False</td>\n",
       "      <td>False</td>\n",
       "      <td>False</td>\n",
       "      <td>False</td>\n",
       "      <td>False</td>\n",
       "      <td>False</td>\n",
       "      <td>False</td>\n",
       "    </tr>\n",
       "    <tr>\n",
       "      <th>3</th>\n",
       "      <td>False</td>\n",
       "      <td>False</td>\n",
       "      <td>False</td>\n",
       "      <td>False</td>\n",
       "      <td>False</td>\n",
       "      <td>False</td>\n",
       "      <td>False</td>\n",
       "      <td>False</td>\n",
       "      <td>False</td>\n",
       "      <td>False</td>\n",
       "      <td>False</td>\n",
       "      <td>False</td>\n",
       "      <td>False</td>\n",
       "      <td>False</td>\n",
       "    </tr>\n",
       "    <tr>\n",
       "      <th>4</th>\n",
       "      <td>False</td>\n",
       "      <td>False</td>\n",
       "      <td>False</td>\n",
       "      <td>False</td>\n",
       "      <td>False</td>\n",
       "      <td>False</td>\n",
       "      <td>False</td>\n",
       "      <td>False</td>\n",
       "      <td>False</td>\n",
       "      <td>False</td>\n",
       "      <td>False</td>\n",
       "      <td>False</td>\n",
       "      <td>False</td>\n",
       "      <td>False</td>\n",
       "    </tr>\n",
       "    <tr>\n",
       "      <th>...</th>\n",
       "      <td>...</td>\n",
       "      <td>...</td>\n",
       "      <td>...</td>\n",
       "      <td>...</td>\n",
       "      <td>...</td>\n",
       "      <td>...</td>\n",
       "      <td>...</td>\n",
       "      <td>...</td>\n",
       "      <td>...</td>\n",
       "      <td>...</td>\n",
       "      <td>...</td>\n",
       "      <td>...</td>\n",
       "      <td>...</td>\n",
       "      <td>...</td>\n",
       "    </tr>\n",
       "    <tr>\n",
       "      <th>39995</th>\n",
       "      <td>False</td>\n",
       "      <td>False</td>\n",
       "      <td>False</td>\n",
       "      <td>False</td>\n",
       "      <td>False</td>\n",
       "      <td>False</td>\n",
       "      <td>False</td>\n",
       "      <td>False</td>\n",
       "      <td>False</td>\n",
       "      <td>False</td>\n",
       "      <td>False</td>\n",
       "      <td>False</td>\n",
       "      <td>False</td>\n",
       "      <td>False</td>\n",
       "    </tr>\n",
       "    <tr>\n",
       "      <th>39996</th>\n",
       "      <td>False</td>\n",
       "      <td>False</td>\n",
       "      <td>False</td>\n",
       "      <td>False</td>\n",
       "      <td>False</td>\n",
       "      <td>False</td>\n",
       "      <td>False</td>\n",
       "      <td>False</td>\n",
       "      <td>False</td>\n",
       "      <td>False</td>\n",
       "      <td>False</td>\n",
       "      <td>False</td>\n",
       "      <td>False</td>\n",
       "      <td>False</td>\n",
       "    </tr>\n",
       "    <tr>\n",
       "      <th>39997</th>\n",
       "      <td>False</td>\n",
       "      <td>False</td>\n",
       "      <td>False</td>\n",
       "      <td>False</td>\n",
       "      <td>False</td>\n",
       "      <td>False</td>\n",
       "      <td>False</td>\n",
       "      <td>False</td>\n",
       "      <td>False</td>\n",
       "      <td>False</td>\n",
       "      <td>False</td>\n",
       "      <td>False</td>\n",
       "      <td>False</td>\n",
       "      <td>False</td>\n",
       "    </tr>\n",
       "    <tr>\n",
       "      <th>39998</th>\n",
       "      <td>False</td>\n",
       "      <td>False</td>\n",
       "      <td>False</td>\n",
       "      <td>False</td>\n",
       "      <td>False</td>\n",
       "      <td>False</td>\n",
       "      <td>False</td>\n",
       "      <td>False</td>\n",
       "      <td>False</td>\n",
       "      <td>False</td>\n",
       "      <td>False</td>\n",
       "      <td>False</td>\n",
       "      <td>False</td>\n",
       "      <td>False</td>\n",
       "    </tr>\n",
       "    <tr>\n",
       "      <th>39999</th>\n",
       "      <td>False</td>\n",
       "      <td>False</td>\n",
       "      <td>False</td>\n",
       "      <td>False</td>\n",
       "      <td>False</td>\n",
       "      <td>False</td>\n",
       "      <td>False</td>\n",
       "      <td>False</td>\n",
       "      <td>False</td>\n",
       "      <td>False</td>\n",
       "      <td>False</td>\n",
       "      <td>False</td>\n",
       "      <td>False</td>\n",
       "      <td>False</td>\n",
       "    </tr>\n",
       "  </tbody>\n",
       "</table>\n",
       "<p>40000 rows × 14 columns</p>\n",
       "</div>"
      ],
      "text/plain": [
       "         age    job  marital  education  default  balance  housing   loan  \\\n",
       "0      False  False    False      False    False    False    False  False   \n",
       "1      False  False    False      False    False    False    False  False   \n",
       "2      False  False    False      False    False    False    False  False   \n",
       "3      False  False    False      False    False    False    False  False   \n",
       "4      False  False    False      False    False    False    False  False   \n",
       "...      ...    ...      ...        ...      ...      ...      ...    ...   \n",
       "39995  False  False    False      False    False    False    False  False   \n",
       "39996  False  False    False      False    False    False    False  False   \n",
       "39997  False  False    False      False    False    False    False  False   \n",
       "39998  False  False    False      False    False    False    False  False   \n",
       "39999  False  False    False      False    False    False    False  False   \n",
       "\n",
       "       contact    day  month  duration  campaign      y  \n",
       "0        False  False  False     False     False  False  \n",
       "1        False  False  False     False     False  False  \n",
       "2        False  False  False     False     False  False  \n",
       "3        False  False  False     False     False  False  \n",
       "4        False  False  False     False     False  False  \n",
       "...        ...    ...    ...       ...       ...    ...  \n",
       "39995    False  False  False     False     False  False  \n",
       "39996    False  False  False     False     False  False  \n",
       "39997    False  False  False     False     False  False  \n",
       "39998    False  False  False     False     False  False  \n",
       "39999    False  False  False     False     False  False  \n",
       "\n",
       "[40000 rows x 14 columns]"
      ]
     },
     "execution_count": 147,
     "metadata": {},
     "output_type": "execute_result"
    }
   ],
   "source": [
    "df.isna()"
   ]
  },
  {
   "cell_type": "code",
   "execution_count": 148,
   "id": "eb1ef81b",
   "metadata": {},
   "outputs": [
    {
     "data": {
      "text/plain": [
       "age          0\n",
       "job          0\n",
       "marital      0\n",
       "education    0\n",
       "default      0\n",
       "balance      0\n",
       "housing      0\n",
       "loan         0\n",
       "contact      0\n",
       "day          0\n",
       "month        0\n",
       "duration     0\n",
       "campaign     0\n",
       "y            0\n",
       "dtype: int64"
      ]
     },
     "execution_count": 148,
     "metadata": {},
     "output_type": "execute_result"
    }
   ],
   "source": [
    "null_values = df.isna().sum(axis=0)\n",
    "null_values"
   ]
  },
  {
   "cell_type": "markdown",
   "id": "04d03251",
   "metadata": {},
   "source": [
    "### Identifying skillness and distribution (Outlier Treatment)"
   ]
  },
  {
   "cell_type": "code",
   "execution_count": 149,
   "id": "372709ba",
   "metadata": {},
   "outputs": [],
   "source": [
    "import seaborn as sns\n",
    "import matplotlib.pyplot as plt\n",
    "%matplotlib inline"
   ]
  },
  {
   "cell_type": "code",
   "execution_count": 150,
   "id": "b7b29887",
   "metadata": {},
   "outputs": [
    {
     "name": "stdout",
     "output_type": "stream",
     "text": [
      "                age        balance           day      duration      campaign\n",
      "count  40000.000000   40000.000000  40000.000000  40000.000000  40000.000000\n",
      "mean      40.544600    1274.277550     16.017225    254.824300      2.882175\n",
      "std        9.641776    2903.769716      8.278127    259.366498      3.239051\n",
      "min       19.000000   -8019.000000      1.000000      0.000000      1.000000\n",
      "25%       33.000000      54.000000      8.000000    100.000000      1.000000\n",
      "50%       39.000000     407.000000     17.000000    175.000000      2.000000\n",
      "75%       48.000000    1319.000000     21.000000    313.000000      3.000000\n",
      "max       95.000000  102127.000000     31.000000   4918.000000     63.000000\n"
     ]
    }
   ],
   "source": [
    "print(df.describe())"
   ]
  },
  {
   "cell_type": "code",
   "execution_count": 151,
   "id": "2087dac3",
   "metadata": {},
   "outputs": [],
   "source": [
    "# cols = ['y', 'age', 'job', 'marital', 'education', 'default', 'balance', 'housing', 'loan', 'contact', 'day', 'month', 'duration', 'campaign']\n",
    "\n",
    "# for i in range(0,len(cols),2):\n",
    "#        plt.figure(figsize=(12,6))\n",
    "#        plt.subplot(121)\n",
    "#        plt.xticks(rotation = 45)\n",
    "#        sns.countplot(df[cols[i]])\n",
    "#        plt.subplot(122)\n",
    "#        plt.xticks(rotation = 45)\n",
    "#        sns.countplot(df[cols[i+1]])\n",
    "#        plt.tight_layout()\n",
    "#        plt.show()"
   ]
  },
  {
   "cell_type": "code",
   "execution_count": 152,
   "id": "89d5e31b",
   "metadata": {},
   "outputs": [
    {
     "name": "stdout",
     "output_type": "stream",
     "text": [
      "age           int64\n",
      "job          object\n",
      "marital      object\n",
      "education    object\n",
      "default      object\n",
      "balance       int64\n",
      "housing      object\n",
      "loan         object\n",
      "contact      object\n",
      "day           int64\n",
      "month        object\n",
      "duration      int64\n",
      "campaign      int64\n",
      "y            object\n",
      "dtype: object\n"
     ]
    }
   ],
   "source": [
    "print(df.dtypes)"
   ]
  },
  {
   "cell_type": "code",
   "execution_count": 173,
   "id": "2a7e8b76",
   "metadata": {
    "scrolled": true
   },
   "outputs": [
    {
     "name": "stdout",
     "output_type": "stream",
     "text": [
      "   age  job  marital  education  default  balance  housing  loan  contact  \\\n",
      "0   58    4        1          2        0     2143        1     0        2   \n",
      "1   44    9        2          1        0       29        1     0        2   \n",
      "2   33    2        1          1        0        2        1     1        2   \n",
      "3   47    1        1          3        0     1506        1     0        2   \n",
      "4   33   11        2          3        0        1        0     0        2   \n",
      "\n",
      "   day  month  duration  campaign  y  \n",
      "0    5      8       261         1  0  \n",
      "1    5      8       151         1  0  \n",
      "2    5      8        76         1  0  \n",
      "3    5      8        92         1  0  \n",
      "4    5      8       198         1  0  \n"
     ]
    }
   ],
   "source": [
    "# Perform onehot encoding but in a new dataframe, so imputations later can be performed on the unknowns\n",
    "from sklearn.preprocessing import LabelEncoder\n",
    "\n",
    "# Make a copy of the original dataframe\n",
    "df_encoded = df.copy()\n",
    "\n",
    "# Define columns to be label encoded\n",
    "columns_to_encode = ['y', 'job', 'marital', 'education', 'default', 'housing', 'loan', 'contact', 'month']\n",
    "\n",
    "# For each column, apply label encoding to the copied dataframe\n",
    "for col in columns_to_encode:\n",
    "    encoder = LabelEncoder()\n",
    "    df_encoded[col] = encoder.fit_transform(df_encoded[col])\n",
    "\n",
    "# Display the head of the new DataFrame to check the changes\n",
    "print(df_encoded.head())"
   ]
  },
  {
   "cell_type": "code",
   "execution_count": 154,
   "id": "f95800e4",
   "metadata": {},
   "outputs": [
    {
     "data": {
      "text/html": [
       "<div>\n",
       "<style scoped>\n",
       "    .dataframe tbody tr th:only-of-type {\n",
       "        vertical-align: middle;\n",
       "    }\n",
       "\n",
       "    .dataframe tbody tr th {\n",
       "        vertical-align: top;\n",
       "    }\n",
       "\n",
       "    .dataframe thead th {\n",
       "        text-align: right;\n",
       "    }\n",
       "</style>\n",
       "<table border=\"1\" class=\"dataframe\">\n",
       "  <thead>\n",
       "    <tr style=\"text-align: right;\">\n",
       "      <th></th>\n",
       "      <th>age</th>\n",
       "      <th>job</th>\n",
       "      <th>marital</th>\n",
       "      <th>education</th>\n",
       "      <th>default</th>\n",
       "      <th>balance</th>\n",
       "      <th>housing</th>\n",
       "      <th>loan</th>\n",
       "      <th>contact</th>\n",
       "      <th>day</th>\n",
       "      <th>month</th>\n",
       "      <th>duration</th>\n",
       "      <th>campaign</th>\n",
       "      <th>y</th>\n",
       "    </tr>\n",
       "  </thead>\n",
       "  <tbody>\n",
       "    <tr>\n",
       "      <th>count</th>\n",
       "      <td>40000.000000</td>\n",
       "      <td>40000.000000</td>\n",
       "      <td>40000.000000</td>\n",
       "      <td>40000.000000</td>\n",
       "      <td>40000.000000</td>\n",
       "      <td>40000.000000</td>\n",
       "      <td>40000.000000</td>\n",
       "      <td>40000.000000</td>\n",
       "      <td>40000.000000</td>\n",
       "      <td>40000.000000</td>\n",
       "      <td>40000.000000</td>\n",
       "      <td>40000.000000</td>\n",
       "      <td>40000.000000</td>\n",
       "      <td>40000.000000</td>\n",
       "    </tr>\n",
       "    <tr>\n",
       "      <th>mean</th>\n",
       "      <td>40.544600</td>\n",
       "      <td>4.266050</td>\n",
       "      <td>1.154100</td>\n",
       "      <td>1.199950</td>\n",
       "      <td>0.020225</td>\n",
       "      <td>1274.277550</td>\n",
       "      <td>0.600775</td>\n",
       "      <td>0.173250</td>\n",
       "      <td>0.696275</td>\n",
       "      <td>16.017225</td>\n",
       "      <td>5.509525</td>\n",
       "      <td>254.824300</td>\n",
       "      <td>2.882175</td>\n",
       "      <td>0.072400</td>\n",
       "    </tr>\n",
       "    <tr>\n",
       "      <th>std</th>\n",
       "      <td>9.641776</td>\n",
       "      <td>3.291229</td>\n",
       "      <td>0.605485</td>\n",
       "      <td>0.741643</td>\n",
       "      <td>0.140771</td>\n",
       "      <td>2903.769716</td>\n",
       "      <td>0.489745</td>\n",
       "      <td>0.378468</td>\n",
       "      <td>0.921817</td>\n",
       "      <td>8.278127</td>\n",
       "      <td>2.909522</td>\n",
       "      <td>259.366498</td>\n",
       "      <td>3.239051</td>\n",
       "      <td>0.259152</td>\n",
       "    </tr>\n",
       "    <tr>\n",
       "      <th>min</th>\n",
       "      <td>19.000000</td>\n",
       "      <td>0.000000</td>\n",
       "      <td>0.000000</td>\n",
       "      <td>0.000000</td>\n",
       "      <td>0.000000</td>\n",
       "      <td>-8019.000000</td>\n",
       "      <td>0.000000</td>\n",
       "      <td>0.000000</td>\n",
       "      <td>0.000000</td>\n",
       "      <td>1.000000</td>\n",
       "      <td>0.000000</td>\n",
       "      <td>0.000000</td>\n",
       "      <td>1.000000</td>\n",
       "      <td>0.000000</td>\n",
       "    </tr>\n",
       "    <tr>\n",
       "      <th>25%</th>\n",
       "      <td>33.000000</td>\n",
       "      <td>1.000000</td>\n",
       "      <td>1.000000</td>\n",
       "      <td>1.000000</td>\n",
       "      <td>0.000000</td>\n",
       "      <td>54.000000</td>\n",
       "      <td>0.000000</td>\n",
       "      <td>0.000000</td>\n",
       "      <td>0.000000</td>\n",
       "      <td>8.000000</td>\n",
       "      <td>3.000000</td>\n",
       "      <td>100.000000</td>\n",
       "      <td>1.000000</td>\n",
       "      <td>0.000000</td>\n",
       "    </tr>\n",
       "    <tr>\n",
       "      <th>50%</th>\n",
       "      <td>39.000000</td>\n",
       "      <td>4.000000</td>\n",
       "      <td>1.000000</td>\n",
       "      <td>1.000000</td>\n",
       "      <td>0.000000</td>\n",
       "      <td>407.000000</td>\n",
       "      <td>1.000000</td>\n",
       "      <td>0.000000</td>\n",
       "      <td>0.000000</td>\n",
       "      <td>17.000000</td>\n",
       "      <td>6.000000</td>\n",
       "      <td>175.000000</td>\n",
       "      <td>2.000000</td>\n",
       "      <td>0.000000</td>\n",
       "    </tr>\n",
       "    <tr>\n",
       "      <th>75%</th>\n",
       "      <td>48.000000</td>\n",
       "      <td>7.000000</td>\n",
       "      <td>2.000000</td>\n",
       "      <td>2.000000</td>\n",
       "      <td>0.000000</td>\n",
       "      <td>1319.000000</td>\n",
       "      <td>1.000000</td>\n",
       "      <td>0.000000</td>\n",
       "      <td>2.000000</td>\n",
       "      <td>21.000000</td>\n",
       "      <td>8.000000</td>\n",
       "      <td>313.000000</td>\n",
       "      <td>3.000000</td>\n",
       "      <td>0.000000</td>\n",
       "    </tr>\n",
       "    <tr>\n",
       "      <th>max</th>\n",
       "      <td>95.000000</td>\n",
       "      <td>11.000000</td>\n",
       "      <td>2.000000</td>\n",
       "      <td>3.000000</td>\n",
       "      <td>1.000000</td>\n",
       "      <td>102127.000000</td>\n",
       "      <td>1.000000</td>\n",
       "      <td>1.000000</td>\n",
       "      <td>2.000000</td>\n",
       "      <td>31.000000</td>\n",
       "      <td>10.000000</td>\n",
       "      <td>4918.000000</td>\n",
       "      <td>63.000000</td>\n",
       "      <td>1.000000</td>\n",
       "    </tr>\n",
       "  </tbody>\n",
       "</table>\n",
       "</div>"
      ],
      "text/plain": [
       "                age           job       marital     education       default  \\\n",
       "count  40000.000000  40000.000000  40000.000000  40000.000000  40000.000000   \n",
       "mean      40.544600      4.266050      1.154100      1.199950      0.020225   \n",
       "std        9.641776      3.291229      0.605485      0.741643      0.140771   \n",
       "min       19.000000      0.000000      0.000000      0.000000      0.000000   \n",
       "25%       33.000000      1.000000      1.000000      1.000000      0.000000   \n",
       "50%       39.000000      4.000000      1.000000      1.000000      0.000000   \n",
       "75%       48.000000      7.000000      2.000000      2.000000      0.000000   \n",
       "max       95.000000     11.000000      2.000000      3.000000      1.000000   \n",
       "\n",
       "             balance       housing          loan       contact           day  \\\n",
       "count   40000.000000  40000.000000  40000.000000  40000.000000  40000.000000   \n",
       "mean     1274.277550      0.600775      0.173250      0.696275     16.017225   \n",
       "std      2903.769716      0.489745      0.378468      0.921817      8.278127   \n",
       "min     -8019.000000      0.000000      0.000000      0.000000      1.000000   \n",
       "25%        54.000000      0.000000      0.000000      0.000000      8.000000   \n",
       "50%       407.000000      1.000000      0.000000      0.000000     17.000000   \n",
       "75%      1319.000000      1.000000      0.000000      2.000000     21.000000   \n",
       "max    102127.000000      1.000000      1.000000      2.000000     31.000000   \n",
       "\n",
       "              month      duration      campaign             y  \n",
       "count  40000.000000  40000.000000  40000.000000  40000.000000  \n",
       "mean       5.509525    254.824300      2.882175      0.072400  \n",
       "std        2.909522    259.366498      3.239051      0.259152  \n",
       "min        0.000000      0.000000      1.000000      0.000000  \n",
       "25%        3.000000    100.000000      1.000000      0.000000  \n",
       "50%        6.000000    175.000000      2.000000      0.000000  \n",
       "75%        8.000000    313.000000      3.000000      0.000000  \n",
       "max       10.000000   4918.000000     63.000000      1.000000  "
      ]
     },
     "execution_count": 154,
     "metadata": {},
     "output_type": "execute_result"
    }
   ],
   "source": [
    "df_encoded.describe()"
   ]
  },
  {
   "cell_type": "code",
   "execution_count": 155,
   "id": "4e179a11",
   "metadata": {},
   "outputs": [
    {
     "name": "stdout",
     "output_type": "stream",
     "text": [
      "<class 'pandas.core.frame.DataFrame'>\n",
      "RangeIndex: 40000 entries, 0 to 39999\n",
      "Data columns (total 14 columns):\n",
      " #   Column     Non-Null Count  Dtype\n",
      "---  ------     --------------  -----\n",
      " 0   age        40000 non-null  int64\n",
      " 1   job        40000 non-null  int64\n",
      " 2   marital    40000 non-null  int64\n",
      " 3   education  40000 non-null  int64\n",
      " 4   default    40000 non-null  int64\n",
      " 5   balance    40000 non-null  int64\n",
      " 6   housing    40000 non-null  int64\n",
      " 7   loan       40000 non-null  int64\n",
      " 8   contact    40000 non-null  int64\n",
      " 9   day        40000 non-null  int64\n",
      " 10  month      40000 non-null  int64\n",
      " 11  duration   40000 non-null  int64\n",
      " 12  campaign   40000 non-null  int64\n",
      " 13  y          40000 non-null  int64\n",
      "dtypes: int64(14)\n",
      "memory usage: 4.3 MB\n"
     ]
    }
   ],
   "source": [
    "df_encoded.info()"
   ]
  },
  {
   "cell_type": "code",
   "execution_count": 156,
   "id": "dedfa8e3",
   "metadata": {},
   "outputs": [
    {
     "data": {
      "text/plain": [
       "<AxesSubplot:>"
      ]
     },
     "execution_count": 156,
     "metadata": {},
     "output_type": "execute_result"
    },
    {
     "data": {
      "image/png": "[encoded data removed]",
      "text/plain": [
       "<Figure size 1008x720 with 2 Axes>"
      ]
     },
     "metadata": {
      "needs_background": "light"
     },
     "output_type": "display_data"
    }
   ],
   "source": [
    "k = 14\n",
    "cols = df_encoded.corr().nlargest(k, 'y')['y'].index\n",
    "cm = df_encoded[cols].corr()\n",
    "plt.figure(figsize=(14,10))\n",
    "sns.heatmap(cm, annot=True, cmap = 'viridis')"
   ]
  },
  {
   "cell_type": "code",
   "execution_count": 178,
   "id": "5819de36",
   "metadata": {},
   "outputs": [],
   "source": [
    "label = df_encoded.loc[:, ['y']]"
   ]
  },
  {
   "cell_type": "code",
   "execution_count": 179,
   "id": "1bf0a994",
   "metadata": {},
   "outputs": [],
   "source": [
    "features = df_encoded.drop('y', axis=1)"
   ]
  },
  {
   "cell_type": "markdown",
   "id": "bf5cc7a2",
   "metadata": {},
   "source": [
    "# Prediction as is:"
   ]
  },
  {
   "cell_type": "code",
   "execution_count": 3,
   "id": "8ec25d3c",
   "metadata": {},
   "outputs": [],
   "source": [
    "#Importing Logistic Regression model\n",
    "from sklearn.linear_model import LogisticRegression\n",
    "from sklearn.ensemble import RandomForestClassifier\n",
    "from sklearn.tree import DecisionTreeClassifier\n",
    "from sklearn.neighbors import KNeighborsClassifier\n",
    "from sklearn.svm import SVC\n",
    "from sklearn.naive_bayes import GaussianNB\n",
    "from sklearn.ensemble import GradientBoostingClassifier\n",
    "from sklearn.neural_network import MLPClassifier\n",
    "from sklearn.discriminant_analysis import QuadraticDiscriminantAnalysis\n",
    "from sklearn.ensemble import AdaBoostClassifier\n",
    "from sklearn.model_selection import GridSearchCV\n",
    "from sklearn.metrics import confusion_matrix, accuracy_score, classification_report\n",
    "from sklearn.model_selection import cross_val_score, KFold, train_test_split"
   ]
  },
  {
   "cell_type": "code",
   "execution_count": 160,
   "id": "54f97df6",
   "metadata": {},
   "outputs": [],
   "source": [
    "from sklearn.preprocessing import StandardScaler\n",
    "scaler = StandardScaler()\n",
    "features = scaler.fit_transform(features)"
   ]
  },
  {
   "cell_type": "code",
   "execution_count": 161,
   "id": "4b5a58ef",
   "metadata": {},
   "outputs": [],
   "source": [
    "X_train, X_test, y_train, y_test = train_test_split(features, \n",
    "                                                    label, \n",
    "                                                    test_size=0.2, \n",
    "                                                    random_state=0)"
   ]
  },
  {
   "cell_type": "code",
   "execution_count": 162,
   "id": "0e7ff549",
   "metadata": {},
   "outputs": [
    {
     "data": {
      "text/plain": [
       "DecisionTreeClassifier(max_depth=10, min_samples_leaf=5, min_samples_split=10)"
      ]
     },
     "execution_count": 162,
     "metadata": {},
     "output_type": "execute_result"
    }
   ],
   "source": [
    "model = DecisionTreeClassifier(max_depth=10, min_samples_split=10, min_samples_leaf=5)\n",
    "model.fit(X_train,y_train)"
   ]
  },
  {
   "cell_type": "code",
   "execution_count": 163,
   "id": "d5e4ccf1",
   "metadata": {},
   "outputs": [
    {
     "name": "stdout",
     "output_type": "stream",
     "text": [
      "Training Score is 0.6161490683229813 and Testing Score is 0.4548162859980138\n"
     ]
    }
   ],
   "source": [
    "#F1 Score\n",
    "from sklearn.metrics import f1_score\n",
    "print(\"Training Score is {} and Testing Score is {}\".format(\n",
    "    f1_score(y_train, model.predict(X_train)),\n",
    "    f1_score(y_test, model.predict(X_test))\n",
    "))"
   ]
  },
  {
   "cell_type": "code",
   "execution_count": 164,
   "id": "15c21850",
   "metadata": {},
   "outputs": [],
   "source": [
    "y_pred = model.predict(X_test)"
   ]
  },
  {
   "cell_type": "code",
   "execution_count": 165,
   "id": "82953255",
   "metadata": {},
   "outputs": [
    {
     "data": {
      "text/plain": [
       "array([[7222,  203],\n",
       "       [ 346,  229]])"
      ]
     },
     "execution_count": 165,
     "metadata": {},
     "output_type": "execute_result"
    }
   ],
   "source": [
    "confusion_matrix(y_test, y_pred)"
   ]
  },
  {
   "cell_type": "code",
   "execution_count": 166,
   "id": "ace4ef8a",
   "metadata": {},
   "outputs": [
    {
     "name": "stdout",
     "output_type": "stream",
     "text": [
      "Feature importances: [5.10995084e-02 2.21644259e-02 1.19552986e-02 6.54305014e-03\n",
      " 4.37737902e-04 5.48726270e-02 2.67831625e-02 4.77650447e-03\n",
      " 2.74831377e-02 8.41243172e-02 8.09970169e-02 6.09568670e-01\n",
      " 1.91945431e-02]\n"
     ]
    }
   ],
   "source": [
    "# Feature importances\n",
    "importances = model.feature_importances_\n",
    "print(\"Feature importances:\", importances)"
   ]
  },
  {
   "cell_type": "markdown",
   "id": "3d0e9189",
   "metadata": {},
   "source": [
    "# Imputation Methods"
   ]
  },
  {
   "cell_type": "markdown",
   "id": "890c9935",
   "metadata": {},
   "source": [
    "FYI after going through all the imputation methods tried below: The variables I am trying to impute the unknowns are variables that have very low correlation with the label. Thus, given that predictions didn't improve after all, then it might be better to remove these variables from the prediction.\n",
    "\n",
    "Here are the potential methods I considered, but used the first three to get a glance of how this would work:\n",
    "* Mode imputation\n",
    "* KNN imputation\n",
    "* Machine learning prediction\n",
    "* MICE imputation - multivariate imputation by chained equations\n",
    "* Deep Learning"
   ]
  },
  {
   "cell_type": "markdown",
   "id": "f005ecf7",
   "metadata": {},
   "source": [
    "1) **Mode imputation:**"
   ]
  },
  {
   "cell_type": "code",
   "execution_count": 167,
   "id": "eccc923f",
   "metadata": {},
   "outputs": [],
   "source": [
    "# Perform mode imputation\n",
    "categorical_columns = ['job', 'education', 'contact']\n",
    "\n",
    "for column in categorical_columns:\n",
    "    # Compute the mode of the column excluding \"unknown\"\n",
    "    mode_val = df[df[column] != \"unknown\"][column].mode()[0]\n",
    "    \n",
    "    # Replace \"unknown\" values with the mode value in the column\n",
    "    df[column].replace(\"unknown\", mode_val, inplace=True)"
   ]
  },
  {
   "cell_type": "code",
   "execution_count": 168,
   "id": "5c4d0b6f",
   "metadata": {},
   "outputs": [
    {
     "name": "stdout",
     "output_type": "stream",
     "text": [
      "   age  job  marital  education  default  balance  housing  loan  contact  \\\n",
      "0   58    4        1          2        0     2143        1     0        0   \n",
      "1   44    9        2          1        0       29        1     0        0   \n",
      "2   33    2        1          1        0        2        1     1        0   \n",
      "3   47    1        1          1        0     1506        1     0        0   \n",
      "4   33    1        2          1        0        1        0     0        0   \n",
      "\n",
      "   day  month  duration  campaign  y  \n",
      "0    5      8       261         1  0  \n",
      "1    5      8       151         1  0  \n",
      "2    5      8        76         1  0  \n",
      "3    5      8        92         1  0  \n",
      "4    5      8       198         1  0  \n"
     ]
    }
   ],
   "source": [
    "# Perform onehot encoding but in a new dataframe\n",
    "df_mode = df.copy()\n",
    "\n",
    "# Define columns to be label encoded\n",
    "columns_to_encode = ['y', 'job', 'marital', 'education', 'default', 'housing', 'loan', 'contact', 'month']\n",
    "\n",
    "# For each column, apply label encoding to the copied dataframe\n",
    "for col in columns_to_encode:\n",
    "    encoder = LabelEncoder()\n",
    "    df_mode[col] = encoder.fit_transform(df_mode[col])\n",
    "\n",
    "# Display the head of the new DataFrame to check the changes\n",
    "print(df_mode.head())"
   ]
  },
  {
   "cell_type": "code",
   "execution_count": 169,
   "id": "22504742",
   "metadata": {},
   "outputs": [],
   "source": [
    "label = df_mode.loc[:, ['y']]\n",
    "features = df_mode.drop('y', axis=1)"
   ]
  },
  {
   "cell_type": "code",
   "execution_count": 170,
   "id": "f67adc6e",
   "metadata": {},
   "outputs": [],
   "source": [
    "from sklearn.preprocessing import StandardScaler\n",
    "scaler = StandardScaler()\n",
    "features = scaler.fit_transform(features)"
   ]
  },
  {
   "cell_type": "code",
   "execution_count": 171,
   "id": "aee9f9f3",
   "metadata": {},
   "outputs": [],
   "source": [
    "X_train, X_test, y_train, y_test = train_test_split(features, \n",
    "                                                    label, \n",
    "                                                    test_size=0.2, \n",
    "                                                    random_state=0)"
   ]
  },
  {
   "cell_type": "code",
   "execution_count": 172,
   "id": "1dbf50c2",
   "metadata": {},
   "outputs": [
    {
     "data": {
      "text/plain": [
       "DecisionTreeClassifier(max_depth=10, min_samples_leaf=5, min_samples_split=10)"
      ]
     },
     "execution_count": 172,
     "metadata": {},
     "output_type": "execute_result"
    }
   ],
   "source": [
    "model = DecisionTreeClassifier(max_depth=10, min_samples_split=10, min_samples_leaf=5)\n",
    "model.fit(X_train,y_train)"
   ]
  },
  {
   "cell_type": "code",
   "execution_count": 173,
   "id": "41ed006b",
   "metadata": {},
   "outputs": [
    {
     "name": "stdout",
     "output_type": "stream",
     "text": [
      "Training Score is 0.5672358591248666 and Testing Score is 0.39190628328008514\n"
     ]
    }
   ],
   "source": [
    "#F1 Score\n",
    "from sklearn.metrics import f1_score\n",
    "print(\"Training Score is {} and Testing Score is {}\".format(\n",
    "    f1_score(y_train, model.predict(X_train)),\n",
    "    f1_score(y_test, model.predict(X_test))\n",
    "))"
   ]
  },
  {
   "cell_type": "code",
   "execution_count": 174,
   "id": "496dd3af",
   "metadata": {},
   "outputs": [],
   "source": [
    "y_pred = model.predict(X_test)"
   ]
  },
  {
   "cell_type": "code",
   "execution_count": 175,
   "id": "771fc861",
   "metadata": {},
   "outputs": [
    {
     "data": {
      "text/plain": [
       "array([[7245,  180],\n",
       "       [ 391,  184]])"
      ]
     },
     "execution_count": 175,
     "metadata": {},
     "output_type": "execute_result"
    }
   ],
   "source": [
    "confusion_matrix(y_test, y_pred)"
   ]
  },
  {
   "cell_type": "code",
   "execution_count": 176,
   "id": "f77e5f3b",
   "metadata": {},
   "outputs": [
    {
     "name": "stdout",
     "output_type": "stream",
     "text": [
      "Feature importances: [0.07045491 0.02028575 0.01234681 0.00530421 0.         0.06115672\n",
      " 0.03262791 0.00172867 0.00398362 0.07064921 0.06847937 0.64093795\n",
      " 0.01204486]\n"
     ]
    }
   ],
   "source": [
    "# Feature importances\n",
    "importances = model.feature_importances_\n",
    "print(\"Feature importances:\", importances)"
   ]
  },
  {
   "cell_type": "markdown",
   "id": "0c153244",
   "metadata": {},
   "source": [
    "2) **K-Nearest Neighbor (KNN) inputation**"
   ]
  },
  {
   "cell_type": "code",
   "execution_count": 177,
   "id": "a799b597",
   "metadata": {},
   "outputs": [],
   "source": [
    "# Create a copy of the dataframe\n",
    "df_knn = df.copy()\n",
    "\n",
    "# Define columns to be label encoded\n",
    "columns_to_encode = ['y', 'job', 'marital', 'education', 'default', 'housing', 'loan', 'contact', 'month']\n",
    "\n",
    "# For each column, apply label encoding to the copied dataframe\n",
    "for col in columns_to_encode:\n",
    "    encoder = LabelEncoder()\n",
    "    df_knn[col] = encoder.fit_transform(df_knn[col])"
   ]
  },
  {
   "cell_type": "code",
   "execution_count": 178,
   "id": "3be01c57",
   "metadata": {
    "scrolled": true
   },
   "outputs": [
    {
     "name": "stdout",
     "output_type": "stream",
     "text": [
      "   age  job  marital  education  default  balance  housing  loan  contact  \\\n",
      "0   58    4        1          2        0     2143        1     0        0   \n",
      "1   44    9        2          1        0       29        1     0        0   \n",
      "2   33    2        1          1        0        2        1     1        0   \n",
      "3   47    1        1          1        0     1506        1     0        0   \n",
      "4   33    1        2          1        0        1        0     0        0   \n",
      "\n",
      "   day  month  duration  campaign  y  \n",
      "0    5      8       261         1  0  \n",
      "1    5      8       151         1  0  \n",
      "2    5      8        76         1  0  \n",
      "3    5      8        92         1  0  \n",
      "4    5      8       198         1  0  \n"
     ]
    }
   ],
   "source": [
    "from sklearn.impute import KNNImputer\n",
    "for col in columns_to_encode:\n",
    "    encoder = LabelEncoder()\n",
    "    df_knn[col] = encoder.fit_transform(df_knn[col])\n",
    "\n",
    "# Convert \"unknown\" to NaN for the KNN imputer\n",
    "df_knn[categorical_columns] = df_knn[categorical_columns].replace(\"unknown\", np.nan)\n",
    "\n",
    "# Initialize KNNImputer\n",
    "imputer = KNNImputer(n_neighbors=3)\n",
    "\n",
    "# Apply imputation\n",
    "df_knn[categorical_columns] = imputer.fit_transform(df_knn[categorical_columns])\n",
    "\n",
    "# Convert the imputed columns back to int type (as KNNImputer returns float values)\n",
    "for col in categorical_columns:\n",
    "    df_knn[col] = df_knn[col].astype(int)\n",
    "\n",
    "# Display the head of the new DataFrame to check the changes\n",
    "print(df_knn.head())"
   ]
  },
  {
   "cell_type": "code",
   "execution_count": 179,
   "id": "18237c69",
   "metadata": {},
   "outputs": [
    {
     "data": {
      "text/plain": [
       "age          0\n",
       "job          0\n",
       "marital      0\n",
       "education    0\n",
       "default      0\n",
       "balance      0\n",
       "housing      0\n",
       "loan         0\n",
       "contact      0\n",
       "day          0\n",
       "month        0\n",
       "duration     0\n",
       "campaign     0\n",
       "y            0\n",
       "dtype: int64"
      ]
     },
     "execution_count": 179,
     "metadata": {},
     "output_type": "execute_result"
    }
   ],
   "source": [
    "df_knn.isna().sum(axis=0)"
   ]
  },
  {
   "cell_type": "code",
   "execution_count": 180,
   "id": "e9b4b32b",
   "metadata": {},
   "outputs": [],
   "source": [
    "label = df_knn.loc[:, ['y']]\n",
    "features = df_knn.drop('y', axis=1)"
   ]
  },
  {
   "cell_type": "code",
   "execution_count": 181,
   "id": "417b0890",
   "metadata": {},
   "outputs": [],
   "source": [
    "from sklearn.preprocessing import StandardScaler\n",
    "scaler = StandardScaler()\n",
    "features = scaler.fit_transform(features)"
   ]
  },
  {
   "cell_type": "code",
   "execution_count": 182,
   "id": "958877c0",
   "metadata": {},
   "outputs": [],
   "source": [
    "X_train, X_test, y_train, y_test = train_test_split(features, \n",
    "                                                    label, \n",
    "                                                    test_size=0.2, \n",
    "                                                    random_state=0)"
   ]
  },
  {
   "cell_type": "code",
   "execution_count": 183,
   "id": "68acd724",
   "metadata": {},
   "outputs": [
    {
     "data": {
      "text/plain": [
       "DecisionTreeClassifier(max_depth=10, min_samples_leaf=5, min_samples_split=10)"
      ]
     },
     "execution_count": 183,
     "metadata": {},
     "output_type": "execute_result"
    }
   ],
   "source": [
    "model = DecisionTreeClassifier(max_depth=10, min_samples_split=10, min_samples_leaf=5)\n",
    "model.fit(X_train,y_train)"
   ]
  },
  {
   "cell_type": "code",
   "execution_count": 184,
   "id": "e165b8d8",
   "metadata": {},
   "outputs": [
    {
     "name": "stdout",
     "output_type": "stream",
     "text": [
      "Training Score is 0.5666221628838451 and Testing Score is 0.3936170212765958\n"
     ]
    }
   ],
   "source": [
    "#F1 Score\n",
    "from sklearn.metrics import f1_score\n",
    "print(\"Training Score is {} and Testing Score is {}\".format(\n",
    "    f1_score(y_train, model.predict(X_train)),\n",
    "    f1_score(y_test, model.predict(X_test))\n",
    "))"
   ]
  },
  {
   "cell_type": "code",
   "execution_count": 185,
   "id": "66a50120",
   "metadata": {},
   "outputs": [],
   "source": [
    "y_pred = model.predict(X_test)"
   ]
  },
  {
   "cell_type": "code",
   "execution_count": 186,
   "id": "5e700050",
   "metadata": {},
   "outputs": [
    {
     "data": {
      "text/plain": [
       "array([[7245,  180],\n",
       "       [ 390,  185]])"
      ]
     },
     "execution_count": 186,
     "metadata": {},
     "output_type": "execute_result"
    }
   ],
   "source": [
    "confusion_matrix(y_test, y_pred)"
   ]
  },
  {
   "cell_type": "code",
   "execution_count": 187,
   "id": "e8c887b6",
   "metadata": {
    "scrolled": true
   },
   "outputs": [
    {
     "name": "stdout",
     "output_type": "stream",
     "text": [
      "Feature importances: [0.07218058 0.02078921 0.01234813 0.00530477 0.         0.06074379\n",
      " 0.03089903 0.00245878 0.00398405 0.07050003 0.06827064 0.64020296\n",
      " 0.01231803]\n"
     ]
    }
   ],
   "source": [
    "# Feature importances\n",
    "importances = model.feature_importances_\n",
    "print(\"Feature importances:\", importances)"
   ]
  },
  {
   "cell_type": "markdown",
   "id": "763d0ee3",
   "metadata": {},
   "source": [
    "3) **Machine Learning prediction**"
   ]
  },
  {
   "cell_type": "code",
   "execution_count": 198,
   "id": "cebf2b48",
   "metadata": {},
   "outputs": [],
   "source": [
    "label = df.loc[:, ['y']]\n",
    "features = df.drop('y', axis=1)"
   ]
  },
  {
   "cell_type": "code",
   "execution_count": 199,
   "id": "6e63b9a9",
   "metadata": {},
   "outputs": [],
   "source": [
    "# Apply OHE to label\n",
    "from sklearn.preprocessing import LabelEncoder\n",
    "for col in columns_to_encode:\n",
    "    encoder = LabelEncoder()\n",
    "    label['y'] = encoder.fit_transform(label['y'])"
   ]
  },
  {
   "cell_type": "code",
   "execution_count": 200,
   "id": "faa5d3b2",
   "metadata": {},
   "outputs": [],
   "source": [
    "df_predict = features.copy()"
   ]
  },
  {
   "cell_type": "code",
   "execution_count": 201,
   "id": "3d966af9",
   "metadata": {},
   "outputs": [
    {
     "name": "stderr",
     "output_type": "stream",
     "text": [
      "/var/folders/8h/yjyt285s0j38qkk9d4w1vfjr0000gn/T/ipykernel_92176/380536593.py:43: SettingWithCopyWarning: \n",
      "A value is trying to be set on a copy of a slice from a DataFrame\n",
      "\n",
      "See the caveats in the documentation: https://pandas.pydata.org/pandas-docs/stable/user_guide/indexing.html#returning-a-view-versus-a-copy\n",
      "  target_df.loc[unknown_idx, target_col] = predicted_values\n",
      "/var/folders/8h/yjyt285s0j38qkk9d4w1vfjr0000gn/T/ipykernel_92176/380536593.py:43: SettingWithCopyWarning: \n",
      "A value is trying to be set on a copy of a slice from a DataFrame\n",
      "\n",
      "See the caveats in the documentation: https://pandas.pydata.org/pandas-docs/stable/user_guide/indexing.html#returning-a-view-versus-a-copy\n",
      "  target_df.loc[unknown_idx, target_col] = predicted_values\n",
      "/var/folders/8h/yjyt285s0j38qkk9d4w1vfjr0000gn/T/ipykernel_92176/380536593.py:43: SettingWithCopyWarning: \n",
      "A value is trying to be set on a copy of a slice from a DataFrame\n",
      "\n",
      "See the caveats in the documentation: https://pandas.pydata.org/pandas-docs/stable/user_guide/indexing.html#returning-a-view-versus-a-copy\n",
      "  target_df.loc[unknown_idx, target_col] = predicted_values\n"
     ]
    }
   ],
   "source": [
    "# Create new_df_features and the separate target DataFrames\n",
    "new_df_features = df_predict.drop(columns=['job', 'education', 'contact'])\n",
    "job_df = df_predict[['job']]\n",
    "education_df = df_predict[['education']]\n",
    "contact_df = df_predict[['contact']]\n",
    "\n",
    "def encode_features(features_df):\n",
    "    encoders = {}  # Store encoders for potential reverse encoding\n",
    "    for column in features_df.columns:\n",
    "        # Check if the column is of object type (indicative of a categorical variable)\n",
    "        if features_df[column].dtype == 'object':\n",
    "            le = LabelEncoder()\n",
    "            non_nan_values = features_df[column].dropna()\n",
    "            le.fit(non_nan_values)\n",
    "            encoders[column] = le  # Store the trained encoder\n",
    "            \n",
    "            # Only transform the non-NaN values\n",
    "            features_df.loc[non_nan_values.index, column] = le.transform(non_nan_values)\n",
    "            \n",
    "    return features_df, encoders\n",
    "\n",
    "def impute_missing_values(features, target_df, target_col):\n",
    "    # Ensure all features are encoded\n",
    "    features, encoders = encode_features(features.copy())\n",
    "    \n",
    "    # Split data based on NaN values in target\n",
    "    known_idx = target_df[target_col].dropna().index\n",
    "    unknown_idx = target_df[target_col].isna().index\n",
    "    \n",
    "    X_train = features.loc[known_idx]\n",
    "    y_train = target_df.loc[known_idx, target_col]\n",
    "    \n",
    "    X_test = features.loc[unknown_idx]\n",
    "    \n",
    "    # Train Decision Tree model\n",
    "    model = DecisionTreeClassifier(max_depth=10, min_samples_split=10, min_samples_leaf=5)\n",
    "    model.fit(X_train, y_train)\n",
    "    \n",
    "    # Predict NaN values\n",
    "    predicted_values = model.predict(X_test)\n",
    "    \n",
    "    # Replace NaN values in the target DataFrame\n",
    "    target_df.loc[unknown_idx, target_col] = predicted_values\n",
    "    \n",
    "    return target_df\n",
    "\n",
    "# Apply the imputation function for each target DataFrame\n",
    "# Impute for job and update the feature set\n",
    "job_df = impute_missing_values(new_df_features, job_df, 'job')\n",
    "new_df_features['job'] = job_df['job']\n",
    "\n",
    "# Impute for education and update the feature set\n",
    "education_df = impute_missing_values(new_df_features, education_df, 'education')\n",
    "new_df_features['education'] = education_df['education']\n",
    "\n",
    "# Impute for contact\n",
    "contact_df = impute_missing_values(new_df_features, contact_df, 'contact')\n",
    "new_df_features['contact'] = contact_df['contact']"
   ]
  },
  {
   "cell_type": "code",
   "execution_count": 202,
   "id": "c6a5090c",
   "metadata": {},
   "outputs": [],
   "source": [
    "new_df_features.replace('unknown', np.nan, inplace=True)"
   ]
  },
  {
   "cell_type": "code",
   "execution_count": 203,
   "id": "4e119c08",
   "metadata": {},
   "outputs": [
    {
     "data": {
      "text/plain": [
       "age              0\n",
       "marital          0\n",
       "default          0\n",
       "balance          0\n",
       "housing          0\n",
       "loan             0\n",
       "day              0\n",
       "month            0\n",
       "duration         0\n",
       "campaign         0\n",
       "job              0\n",
       "education       36\n",
       "contact      12042\n",
       "dtype: int64"
      ]
     },
     "execution_count": 203,
     "metadata": {},
     "output_type": "execute_result"
    }
   ],
   "source": [
    "new_df_features.isna().sum()"
   ]
  },
  {
   "cell_type": "code",
   "execution_count": 204,
   "id": "626bd574",
   "metadata": {},
   "outputs": [
    {
     "data": {
      "text/html": [
       "<div>\n",
       "<style scoped>\n",
       "    .dataframe tbody tr th:only-of-type {\n",
       "        vertical-align: middle;\n",
       "    }\n",
       "\n",
       "    .dataframe tbody tr th {\n",
       "        vertical-align: top;\n",
       "    }\n",
       "\n",
       "    .dataframe thead th {\n",
       "        text-align: right;\n",
       "    }\n",
       "</style>\n",
       "<table border=\"1\" class=\"dataframe\">\n",
       "  <thead>\n",
       "    <tr style=\"text-align: right;\">\n",
       "      <th></th>\n",
       "      <th>age</th>\n",
       "      <th>marital</th>\n",
       "      <th>default</th>\n",
       "      <th>balance</th>\n",
       "      <th>housing</th>\n",
       "      <th>loan</th>\n",
       "      <th>day</th>\n",
       "      <th>month</th>\n",
       "      <th>duration</th>\n",
       "      <th>campaign</th>\n",
       "      <th>job</th>\n",
       "      <th>education</th>\n",
       "      <th>contact</th>\n",
       "    </tr>\n",
       "  </thead>\n",
       "  <tbody>\n",
       "    <tr>\n",
       "      <th>0</th>\n",
       "      <td>58</td>\n",
       "      <td>married</td>\n",
       "      <td>no</td>\n",
       "      <td>2143</td>\n",
       "      <td>yes</td>\n",
       "      <td>no</td>\n",
       "      <td>5</td>\n",
       "      <td>may</td>\n",
       "      <td>261</td>\n",
       "      <td>1</td>\n",
       "      <td>retired</td>\n",
       "      <td>secondary</td>\n",
       "      <td>NaN</td>\n",
       "    </tr>\n",
       "    <tr>\n",
       "      <th>1</th>\n",
       "      <td>44</td>\n",
       "      <td>single</td>\n",
       "      <td>no</td>\n",
       "      <td>29</td>\n",
       "      <td>yes</td>\n",
       "      <td>no</td>\n",
       "      <td>5</td>\n",
       "      <td>may</td>\n",
       "      <td>151</td>\n",
       "      <td>1</td>\n",
       "      <td>blue-collar</td>\n",
       "      <td>secondary</td>\n",
       "      <td>NaN</td>\n",
       "    </tr>\n",
       "    <tr>\n",
       "      <th>2</th>\n",
       "      <td>33</td>\n",
       "      <td>married</td>\n",
       "      <td>no</td>\n",
       "      <td>2</td>\n",
       "      <td>yes</td>\n",
       "      <td>yes</td>\n",
       "      <td>5</td>\n",
       "      <td>may</td>\n",
       "      <td>76</td>\n",
       "      <td>1</td>\n",
       "      <td>blue-collar</td>\n",
       "      <td>secondary</td>\n",
       "      <td>cellular</td>\n",
       "    </tr>\n",
       "    <tr>\n",
       "      <th>3</th>\n",
       "      <td>47</td>\n",
       "      <td>married</td>\n",
       "      <td>no</td>\n",
       "      <td>1506</td>\n",
       "      <td>yes</td>\n",
       "      <td>no</td>\n",
       "      <td>5</td>\n",
       "      <td>may</td>\n",
       "      <td>92</td>\n",
       "      <td>1</td>\n",
       "      <td>blue-collar</td>\n",
       "      <td>secondary</td>\n",
       "      <td>NaN</td>\n",
       "    </tr>\n",
       "    <tr>\n",
       "      <th>4</th>\n",
       "      <td>33</td>\n",
       "      <td>single</td>\n",
       "      <td>no</td>\n",
       "      <td>1</td>\n",
       "      <td>no</td>\n",
       "      <td>no</td>\n",
       "      <td>5</td>\n",
       "      <td>may</td>\n",
       "      <td>198</td>\n",
       "      <td>1</td>\n",
       "      <td>blue-collar</td>\n",
       "      <td>secondary</td>\n",
       "      <td>cellular</td>\n",
       "    </tr>\n",
       "  </tbody>\n",
       "</table>\n",
       "</div>"
      ],
      "text/plain": [
       "   age  marital default  balance housing loan  day month  duration  campaign  \\\n",
       "0   58  married      no     2143     yes   no    5   may       261         1   \n",
       "1   44   single      no       29     yes   no    5   may       151         1   \n",
       "2   33  married      no        2     yes  yes    5   may        76         1   \n",
       "3   47  married      no     1506     yes   no    5   may        92         1   \n",
       "4   33   single      no        1      no   no    5   may       198         1   \n",
       "\n",
       "           job  education   contact  \n",
       "0      retired  secondary       NaN  \n",
       "1  blue-collar  secondary       NaN  \n",
       "2  blue-collar  secondary  cellular  \n",
       "3  blue-collar  secondary       NaN  \n",
       "4  blue-collar  secondary  cellular  "
      ]
     },
     "execution_count": 204,
     "metadata": {},
     "output_type": "execute_result"
    }
   ],
   "source": [
    "new_df_features.head()"
   ]
  },
  {
   "cell_type": "code",
   "execution_count": 205,
   "id": "6945dc4c",
   "metadata": {},
   "outputs": [],
   "source": [
    "new_df_features.drop('contact', axis=1, inplace=True)"
   ]
  },
  {
   "cell_type": "code",
   "execution_count": 206,
   "id": "21ecc6a9",
   "metadata": {},
   "outputs": [],
   "source": [
    "merged_df = pd.concat([label, new_df_features], axis=1)  # Horizontally"
   ]
  },
  {
   "cell_type": "code",
   "execution_count": 207,
   "id": "5e41434e",
   "metadata": {},
   "outputs": [
    {
     "data": {
      "text/html": [
       "<div>\n",
       "<style scoped>\n",
       "    .dataframe tbody tr th:only-of-type {\n",
       "        vertical-align: middle;\n",
       "    }\n",
       "\n",
       "    .dataframe tbody tr th {\n",
       "        vertical-align: top;\n",
       "    }\n",
       "\n",
       "    .dataframe thead th {\n",
       "        text-align: right;\n",
       "    }\n",
       "</style>\n",
       "<table border=\"1\" class=\"dataframe\">\n",
       "  <thead>\n",
       "    <tr style=\"text-align: right;\">\n",
       "      <th></th>\n",
       "      <th>y</th>\n",
       "      <th>age</th>\n",
       "      <th>marital</th>\n",
       "      <th>default</th>\n",
       "      <th>balance</th>\n",
       "      <th>housing</th>\n",
       "      <th>loan</th>\n",
       "      <th>day</th>\n",
       "      <th>month</th>\n",
       "      <th>duration</th>\n",
       "      <th>campaign</th>\n",
       "      <th>job</th>\n",
       "      <th>education</th>\n",
       "    </tr>\n",
       "  </thead>\n",
       "  <tbody>\n",
       "    <tr>\n",
       "      <th>0</th>\n",
       "      <td>0</td>\n",
       "      <td>58</td>\n",
       "      <td>married</td>\n",
       "      <td>no</td>\n",
       "      <td>2143</td>\n",
       "      <td>yes</td>\n",
       "      <td>no</td>\n",
       "      <td>5</td>\n",
       "      <td>may</td>\n",
       "      <td>261</td>\n",
       "      <td>1</td>\n",
       "      <td>retired</td>\n",
       "      <td>secondary</td>\n",
       "    </tr>\n",
       "    <tr>\n",
       "      <th>1</th>\n",
       "      <td>0</td>\n",
       "      <td>44</td>\n",
       "      <td>single</td>\n",
       "      <td>no</td>\n",
       "      <td>29</td>\n",
       "      <td>yes</td>\n",
       "      <td>no</td>\n",
       "      <td>5</td>\n",
       "      <td>may</td>\n",
       "      <td>151</td>\n",
       "      <td>1</td>\n",
       "      <td>blue-collar</td>\n",
       "      <td>secondary</td>\n",
       "    </tr>\n",
       "    <tr>\n",
       "      <th>2</th>\n",
       "      <td>0</td>\n",
       "      <td>33</td>\n",
       "      <td>married</td>\n",
       "      <td>no</td>\n",
       "      <td>2</td>\n",
       "      <td>yes</td>\n",
       "      <td>yes</td>\n",
       "      <td>5</td>\n",
       "      <td>may</td>\n",
       "      <td>76</td>\n",
       "      <td>1</td>\n",
       "      <td>blue-collar</td>\n",
       "      <td>secondary</td>\n",
       "    </tr>\n",
       "    <tr>\n",
       "      <th>3</th>\n",
       "      <td>0</td>\n",
       "      <td>47</td>\n",
       "      <td>married</td>\n",
       "      <td>no</td>\n",
       "      <td>1506</td>\n",
       "      <td>yes</td>\n",
       "      <td>no</td>\n",
       "      <td>5</td>\n",
       "      <td>may</td>\n",
       "      <td>92</td>\n",
       "      <td>1</td>\n",
       "      <td>blue-collar</td>\n",
       "      <td>secondary</td>\n",
       "    </tr>\n",
       "    <tr>\n",
       "      <th>4</th>\n",
       "      <td>0</td>\n",
       "      <td>33</td>\n",
       "      <td>single</td>\n",
       "      <td>no</td>\n",
       "      <td>1</td>\n",
       "      <td>no</td>\n",
       "      <td>no</td>\n",
       "      <td>5</td>\n",
       "      <td>may</td>\n",
       "      <td>198</td>\n",
       "      <td>1</td>\n",
       "      <td>blue-collar</td>\n",
       "      <td>secondary</td>\n",
       "    </tr>\n",
       "    <tr>\n",
       "      <th>...</th>\n",
       "      <td>...</td>\n",
       "      <td>...</td>\n",
       "      <td>...</td>\n",
       "      <td>...</td>\n",
       "      <td>...</td>\n",
       "      <td>...</td>\n",
       "      <td>...</td>\n",
       "      <td>...</td>\n",
       "      <td>...</td>\n",
       "      <td>...</td>\n",
       "      <td>...</td>\n",
       "      <td>...</td>\n",
       "      <td>...</td>\n",
       "    </tr>\n",
       "    <tr>\n",
       "      <th>39995</th>\n",
       "      <td>0</td>\n",
       "      <td>53</td>\n",
       "      <td>married</td>\n",
       "      <td>no</td>\n",
       "      <td>395</td>\n",
       "      <td>no</td>\n",
       "      <td>no</td>\n",
       "      <td>3</td>\n",
       "      <td>jun</td>\n",
       "      <td>107</td>\n",
       "      <td>1</td>\n",
       "      <td>retired</td>\n",
       "      <td>secondary</td>\n",
       "    </tr>\n",
       "    <tr>\n",
       "      <th>39996</th>\n",
       "      <td>1</td>\n",
       "      <td>30</td>\n",
       "      <td>single</td>\n",
       "      <td>no</td>\n",
       "      <td>3340</td>\n",
       "      <td>no</td>\n",
       "      <td>no</td>\n",
       "      <td>3</td>\n",
       "      <td>jun</td>\n",
       "      <td>238</td>\n",
       "      <td>3</td>\n",
       "      <td>blue-collar</td>\n",
       "      <td>tertiary</td>\n",
       "    </tr>\n",
       "    <tr>\n",
       "      <th>39997</th>\n",
       "      <td>1</td>\n",
       "      <td>54</td>\n",
       "      <td>divorced</td>\n",
       "      <td>no</td>\n",
       "      <td>200</td>\n",
       "      <td>no</td>\n",
       "      <td>no</td>\n",
       "      <td>3</td>\n",
       "      <td>jun</td>\n",
       "      <td>170</td>\n",
       "      <td>1</td>\n",
       "      <td>retired</td>\n",
       "      <td>secondary</td>\n",
       "    </tr>\n",
       "    <tr>\n",
       "      <th>39998</th>\n",
       "      <td>0</td>\n",
       "      <td>34</td>\n",
       "      <td>married</td>\n",
       "      <td>no</td>\n",
       "      <td>1047</td>\n",
       "      <td>no</td>\n",
       "      <td>no</td>\n",
       "      <td>3</td>\n",
       "      <td>jun</td>\n",
       "      <td>342</td>\n",
       "      <td>1</td>\n",
       "      <td>blue-collar</td>\n",
       "      <td>secondary</td>\n",
       "    </tr>\n",
       "    <tr>\n",
       "      <th>39999</th>\n",
       "      <td>0</td>\n",
       "      <td>38</td>\n",
       "      <td>married</td>\n",
       "      <td>no</td>\n",
       "      <td>1442</td>\n",
       "      <td>yes</td>\n",
       "      <td>no</td>\n",
       "      <td>3</td>\n",
       "      <td>jun</td>\n",
       "      <td>113</td>\n",
       "      <td>1</td>\n",
       "      <td>blue-collar</td>\n",
       "      <td>secondary</td>\n",
       "    </tr>\n",
       "  </tbody>\n",
       "</table>\n",
       "<p>40000 rows × 13 columns</p>\n",
       "</div>"
      ],
      "text/plain": [
       "       y  age   marital default  balance housing loan  day month  duration  \\\n",
       "0      0   58   married      no     2143     yes   no    5   may       261   \n",
       "1      0   44    single      no       29     yes   no    5   may       151   \n",
       "2      0   33   married      no        2     yes  yes    5   may        76   \n",
       "3      0   47   married      no     1506     yes   no    5   may        92   \n",
       "4      0   33    single      no        1      no   no    5   may       198   \n",
       "...   ..  ...       ...     ...      ...     ...  ...  ...   ...       ...   \n",
       "39995  0   53   married      no      395      no   no    3   jun       107   \n",
       "39996  1   30    single      no     3340      no   no    3   jun       238   \n",
       "39997  1   54  divorced      no      200      no   no    3   jun       170   \n",
       "39998  0   34   married      no     1047      no   no    3   jun       342   \n",
       "39999  0   38   married      no     1442     yes   no    3   jun       113   \n",
       "\n",
       "       campaign          job  education  \n",
       "0             1      retired  secondary  \n",
       "1             1  blue-collar  secondary  \n",
       "2             1  blue-collar  secondary  \n",
       "3             1  blue-collar  secondary  \n",
       "4             1  blue-collar  secondary  \n",
       "...         ...          ...        ...  \n",
       "39995         1      retired  secondary  \n",
       "39996         3  blue-collar   tertiary  \n",
       "39997         1      retired  secondary  \n",
       "39998         1  blue-collar  secondary  \n",
       "39999         1  blue-collar  secondary  \n",
       "\n",
       "[40000 rows x 13 columns]"
      ]
     },
     "execution_count": 207,
     "metadata": {},
     "output_type": "execute_result"
    }
   ],
   "source": [
    "merged_df"
   ]
  },
  {
   "cell_type": "code",
   "execution_count": 208,
   "id": "2d6b80f2",
   "metadata": {},
   "outputs": [],
   "source": [
    "merged_df.dropna(inplace=True)"
   ]
  },
  {
   "cell_type": "code",
   "execution_count": 209,
   "id": "68b3cfe6",
   "metadata": {},
   "outputs": [],
   "source": [
    "label = merged_df.loc[:, ['y']]\n",
    "new_df_features = merged_df.drop('y', axis=1)"
   ]
  },
  {
   "cell_type": "code",
   "execution_count": 210,
   "id": "4d36d9c9",
   "metadata": {},
   "outputs": [],
   "source": [
    "# Define columns to be label encoded\n",
    "columns_to_encode = ['marital', 'default', 'housing', 'loan', 'month', 'job', 'education']\n",
    "\n",
    "# For each column, apply label encoding to the copied dataframe\n",
    "for col in columns_to_encode:\n",
    "    encoder = LabelEncoder()\n",
    "    new_df_features[col] = encoder.fit_transform(new_df_features[col])"
   ]
  },
  {
   "cell_type": "code",
   "execution_count": 211,
   "id": "71f746a3",
   "metadata": {},
   "outputs": [],
   "source": [
    "from sklearn.preprocessing import StandardScaler\n",
    "# Define columns to be label encoded\n",
    "\n",
    "columns_to_scale = ['age', 'balance', 'day', 'duration', 'campaign']\n",
    "\n",
    "# For each column, apply label encoding to the copied dataframe\n",
    "for col in columns_to_scale:\n",
    "    scaler = StandardScaler()\n",
    "    new_df_features[col] = scaler.fit_transform(new_df_features[col].values.reshape(-1, 1))"
   ]
  },
  {
   "cell_type": "code",
   "execution_count": 212,
   "id": "e8fef615",
   "metadata": {},
   "outputs": [
    {
     "data": {
      "text/html": [
       "<div>\n",
       "<style scoped>\n",
       "    .dataframe tbody tr th:only-of-type {\n",
       "        vertical-align: middle;\n",
       "    }\n",
       "\n",
       "    .dataframe tbody tr th {\n",
       "        vertical-align: top;\n",
       "    }\n",
       "\n",
       "    .dataframe thead th {\n",
       "        text-align: right;\n",
       "    }\n",
       "</style>\n",
       "<table border=\"1\" class=\"dataframe\">\n",
       "  <thead>\n",
       "    <tr style=\"text-align: right;\">\n",
       "      <th></th>\n",
       "      <th>age</th>\n",
       "      <th>marital</th>\n",
       "      <th>default</th>\n",
       "      <th>balance</th>\n",
       "      <th>housing</th>\n",
       "      <th>loan</th>\n",
       "      <th>day</th>\n",
       "      <th>month</th>\n",
       "      <th>duration</th>\n",
       "      <th>campaign</th>\n",
       "      <th>job</th>\n",
       "      <th>education</th>\n",
       "    </tr>\n",
       "  </thead>\n",
       "  <tbody>\n",
       "    <tr>\n",
       "      <th>0</th>\n",
       "      <td>1.811880</td>\n",
       "      <td>1</td>\n",
       "      <td>0</td>\n",
       "      <td>0.299662</td>\n",
       "      <td>1</td>\n",
       "      <td>0</td>\n",
       "      <td>-1.331044</td>\n",
       "      <td>8</td>\n",
       "      <td>0.023200</td>\n",
       "      <td>-0.581064</td>\n",
       "      <td>5</td>\n",
       "      <td>1</td>\n",
       "    </tr>\n",
       "    <tr>\n",
       "      <th>1</th>\n",
       "      <td>0.358479</td>\n",
       "      <td>2</td>\n",
       "      <td>0</td>\n",
       "      <td>-0.428506</td>\n",
       "      <td>1</td>\n",
       "      <td>0</td>\n",
       "      <td>-1.331044</td>\n",
       "      <td>8</td>\n",
       "      <td>-0.400830</td>\n",
       "      <td>-0.581064</td>\n",
       "      <td>1</td>\n",
       "      <td>1</td>\n",
       "    </tr>\n",
       "    <tr>\n",
       "      <th>2</th>\n",
       "      <td>-0.783478</td>\n",
       "      <td>1</td>\n",
       "      <td>0</td>\n",
       "      <td>-0.437806</td>\n",
       "      <td>1</td>\n",
       "      <td>1</td>\n",
       "      <td>-1.331044</td>\n",
       "      <td>8</td>\n",
       "      <td>-0.689942</td>\n",
       "      <td>-0.581064</td>\n",
       "      <td>1</td>\n",
       "      <td>1</td>\n",
       "    </tr>\n",
       "    <tr>\n",
       "      <th>3</th>\n",
       "      <td>0.669922</td>\n",
       "      <td>1</td>\n",
       "      <td>0</td>\n",
       "      <td>0.080247</td>\n",
       "      <td>1</td>\n",
       "      <td>0</td>\n",
       "      <td>-1.331044</td>\n",
       "      <td>8</td>\n",
       "      <td>-0.628264</td>\n",
       "      <td>-0.581064</td>\n",
       "      <td>1</td>\n",
       "      <td>1</td>\n",
       "    </tr>\n",
       "    <tr>\n",
       "      <th>4</th>\n",
       "      <td>-0.783478</td>\n",
       "      <td>2</td>\n",
       "      <td>0</td>\n",
       "      <td>-0.438150</td>\n",
       "      <td>0</td>\n",
       "      <td>0</td>\n",
       "      <td>-1.331044</td>\n",
       "      <td>8</td>\n",
       "      <td>-0.219653</td>\n",
       "      <td>-0.581064</td>\n",
       "      <td>1</td>\n",
       "      <td>1</td>\n",
       "    </tr>\n",
       "    <tr>\n",
       "      <th>...</th>\n",
       "      <td>...</td>\n",
       "      <td>...</td>\n",
       "      <td>...</td>\n",
       "      <td>...</td>\n",
       "      <td>...</td>\n",
       "      <td>...</td>\n",
       "      <td>...</td>\n",
       "      <td>...</td>\n",
       "      <td>...</td>\n",
       "      <td>...</td>\n",
       "      <td>...</td>\n",
       "      <td>...</td>\n",
       "    </tr>\n",
       "    <tr>\n",
       "      <th>39995</th>\n",
       "      <td>1.292808</td>\n",
       "      <td>1</td>\n",
       "      <td>0</td>\n",
       "      <td>-0.302437</td>\n",
       "      <td>0</td>\n",
       "      <td>0</td>\n",
       "      <td>-1.572657</td>\n",
       "      <td>6</td>\n",
       "      <td>-0.570442</td>\n",
       "      <td>-0.581064</td>\n",
       "      <td>5</td>\n",
       "      <td>1</td>\n",
       "    </tr>\n",
       "    <tr>\n",
       "      <th>39996</th>\n",
       "      <td>-1.094921</td>\n",
       "      <td>2</td>\n",
       "      <td>0</td>\n",
       "      <td>0.711968</td>\n",
       "      <td>0</td>\n",
       "      <td>0</td>\n",
       "      <td>-1.572657</td>\n",
       "      <td>6</td>\n",
       "      <td>-0.065461</td>\n",
       "      <td>0.037001</td>\n",
       "      <td>1</td>\n",
       "      <td>2</td>\n",
       "    </tr>\n",
       "    <tr>\n",
       "      <th>39997</th>\n",
       "      <td>1.396623</td>\n",
       "      <td>0</td>\n",
       "      <td>0</td>\n",
       "      <td>-0.369605</td>\n",
       "      <td>0</td>\n",
       "      <td>0</td>\n",
       "      <td>-1.572657</td>\n",
       "      <td>6</td>\n",
       "      <td>-0.327588</td>\n",
       "      <td>-0.581064</td>\n",
       "      <td>5</td>\n",
       "      <td>1</td>\n",
       "    </tr>\n",
       "    <tr>\n",
       "      <th>39998</th>\n",
       "      <td>-0.679664</td>\n",
       "      <td>1</td>\n",
       "      <td>0</td>\n",
       "      <td>-0.077856</td>\n",
       "      <td>0</td>\n",
       "      <td>0</td>\n",
       "      <td>-1.572657</td>\n",
       "      <td>6</td>\n",
       "      <td>0.335441</td>\n",
       "      <td>-0.581064</td>\n",
       "      <td>1</td>\n",
       "      <td>1</td>\n",
       "    </tr>\n",
       "    <tr>\n",
       "      <th>39999</th>\n",
       "      <td>-0.264406</td>\n",
       "      <td>1</td>\n",
       "      <td>0</td>\n",
       "      <td>0.058202</td>\n",
       "      <td>1</td>\n",
       "      <td>0</td>\n",
       "      <td>-1.572657</td>\n",
       "      <td>6</td>\n",
       "      <td>-0.547313</td>\n",
       "      <td>-0.581064</td>\n",
       "      <td>1</td>\n",
       "      <td>1</td>\n",
       "    </tr>\n",
       "  </tbody>\n",
       "</table>\n",
       "<p>39964 rows × 12 columns</p>\n",
       "</div>"
      ],
      "text/plain": [
       "            age  marital  default   balance  housing  loan       day  month  \\\n",
       "0      1.811880        1        0  0.299662        1     0 -1.331044      8   \n",
       "1      0.358479        2        0 -0.428506        1     0 -1.331044      8   \n",
       "2     -0.783478        1        0 -0.437806        1     1 -1.331044      8   \n",
       "3      0.669922        1        0  0.080247        1     0 -1.331044      8   \n",
       "4     -0.783478        2        0 -0.438150        0     0 -1.331044      8   \n",
       "...         ...      ...      ...       ...      ...   ...       ...    ...   \n",
       "39995  1.292808        1        0 -0.302437        0     0 -1.572657      6   \n",
       "39996 -1.094921        2        0  0.711968        0     0 -1.572657      6   \n",
       "39997  1.396623        0        0 -0.369605        0     0 -1.572657      6   \n",
       "39998 -0.679664        1        0 -0.077856        0     0 -1.572657      6   \n",
       "39999 -0.264406        1        0  0.058202        1     0 -1.572657      6   \n",
       "\n",
       "       duration  campaign  job  education  \n",
       "0      0.023200 -0.581064    5          1  \n",
       "1     -0.400830 -0.581064    1          1  \n",
       "2     -0.689942 -0.581064    1          1  \n",
       "3     -0.628264 -0.581064    1          1  \n",
       "4     -0.219653 -0.581064    1          1  \n",
       "...         ...       ...  ...        ...  \n",
       "39995 -0.570442 -0.581064    5          1  \n",
       "39996 -0.065461  0.037001    1          2  \n",
       "39997 -0.327588 -0.581064    5          1  \n",
       "39998  0.335441 -0.581064    1          1  \n",
       "39999 -0.547313 -0.581064    1          1  \n",
       "\n",
       "[39964 rows x 12 columns]"
      ]
     },
     "execution_count": 212,
     "metadata": {},
     "output_type": "execute_result"
    }
   ],
   "source": [
    "new_df_features"
   ]
  },
  {
   "cell_type": "code",
   "execution_count": 213,
   "id": "aeb21fba",
   "metadata": {},
   "outputs": [],
   "source": [
    "X_train, X_test, y_train, y_test = train_test_split(new_df_features, \n",
    "                                                    label, \n",
    "                                                    test_size=0.2, \n",
    "                                                    random_state=0)"
   ]
  },
  {
   "cell_type": "code",
   "execution_count": 214,
   "id": "cbc69e66",
   "metadata": {},
   "outputs": [
    {
     "data": {
      "text/plain": [
       "DecisionTreeClassifier(max_depth=10, min_samples_leaf=5, min_samples_split=10)"
      ]
     },
     "execution_count": 214,
     "metadata": {},
     "output_type": "execute_result"
    }
   ],
   "source": [
    "model = DecisionTreeClassifier(max_depth=10, min_samples_split=10, min_samples_leaf=5)\n",
    "model.fit(X_train,y_train)"
   ]
  },
  {
   "cell_type": "code",
   "execution_count": 215,
   "id": "e5aff81e",
   "metadata": {},
   "outputs": [
    {
     "name": "stdout",
     "output_type": "stream",
     "text": [
      "Training Score is 0.5424013434089 and Testing Score is 0.3673913043478261\n"
     ]
    }
   ],
   "source": [
    "#F1 Score\n",
    "from sklearn.metrics import f1_score\n",
    "print(\"Training Score is {} and Testing Score is {}\".format(\n",
    "    f1_score(y_train, model.predict(X_train)),\n",
    "    f1_score(y_test, model.predict(X_test))\n",
    "))"
   ]
  },
  {
   "cell_type": "code",
   "execution_count": 216,
   "id": "74556719",
   "metadata": {},
   "outputs": [],
   "source": [
    "y_pred = model.predict(X_test)"
   ]
  },
  {
   "cell_type": "code",
   "execution_count": 217,
   "id": "ea867580",
   "metadata": {},
   "outputs": [
    {
     "data": {
      "text/plain": [
       "array([[7242,  153],\n",
       "       [ 429,  169]])"
      ]
     },
     "execution_count": 217,
     "metadata": {},
     "output_type": "execute_result"
    }
   ],
   "source": [
    "confusion_matrix(y_test, y_pred)"
   ]
  },
  {
   "cell_type": "code",
   "execution_count": 218,
   "id": "79c05738",
   "metadata": {
    "scrolled": true
   },
   "outputs": [
    {
     "name": "stdout",
     "output_type": "stream",
     "text": [
      "Feature importances: [0.07046672 0.01496354 0.         0.06477635 0.032444   0.00220765\n",
      " 0.06010789 0.0644723  0.65792852 0.0200875  0.00743654 0.00510898]\n"
     ]
    }
   ],
   "source": [
    "# Feature importances\n",
    "importances = model.feature_importances_\n",
    "print(\"Feature importances:\", importances)"
   ]
  },
  {
   "cell_type": "markdown",
   "id": "36aefeaf",
   "metadata": {},
   "source": [
    "### **Conclusions from imputation: It does not changed the outcome enough through all 3 methods"
   ]
  },
  {
   "cell_type": "markdown",
   "id": "a3d53681",
   "metadata": {},
   "source": [
    "# NEXT STEP\n",
    "\n",
    "### Remove the three variables I input the data (job, education, and contact)"
   ]
  },
  {
   "cell_type": "code",
   "execution_count": 224,
   "id": "7e564115",
   "metadata": {},
   "outputs": [],
   "source": [
    "features = merged_df.drop(['y', 'job', 'education', 'contact'], axis=1)"
   ]
  },
  {
   "cell_type": "code",
   "execution_count": 181,
   "id": "41193295",
   "metadata": {},
   "outputs": [],
   "source": [
    "from sklearn.preprocessing import StandardScaler\n",
    "scaler = StandardScaler()\n",
    "features = scaler.fit_transform(features)"
   ]
  },
  {
   "cell_type": "code",
   "execution_count": 182,
   "id": "c38e70cc",
   "metadata": {},
   "outputs": [],
   "source": [
    "X_train, X_test, y_train, y_test = train_test_split(new_df_features, \n",
    "                                                    label, \n",
    "                                                    test_size=0.2, \n",
    "                                                    random_state=0)"
   ]
  },
  {
   "cell_type": "code",
   "execution_count": 183,
   "id": "8406af6f",
   "metadata": {},
   "outputs": [
    {
     "data": {
      "text/plain": [
       "DecisionTreeClassifier(max_depth=10, min_samples_leaf=5, min_samples_split=10)"
      ]
     },
     "execution_count": 183,
     "metadata": {},
     "output_type": "execute_result"
    }
   ],
   "source": [
    "model = DecisionTreeClassifier(max_depth=10, min_samples_split=10, min_samples_leaf=5)\n",
    "model.fit(X_train,y_train)"
   ]
  },
  {
   "cell_type": "code",
   "execution_count": 184,
   "id": "6f1728a0",
   "metadata": {},
   "outputs": [
    {
     "name": "stdout",
     "output_type": "stream",
     "text": [
      "Training Score is 0.565928270042194 and Testing Score is 0.42328042328042326\n"
     ]
    }
   ],
   "source": [
    "#F1 Score\n",
    "from sklearn.metrics import f1_score\n",
    "print(\"Training Score is {} and Testing Score is {}\".format(\n",
    "    f1_score(y_train, model.predict(X_train)),\n",
    "    f1_score(y_test, model.predict(X_test))\n",
    "))"
   ]
  },
  {
   "cell_type": "code",
   "execution_count": 185,
   "id": "71cb6b33",
   "metadata": {},
   "outputs": [],
   "source": [
    "y_pred = model.predict(X_test)"
   ]
  },
  {
   "cell_type": "code",
   "execution_count": 186,
   "id": "f8cc5cdf",
   "metadata": {},
   "outputs": [
    {
     "data": {
      "text/plain": [
       "array([[7255,  170],\n",
       "       [ 375,  200]])"
      ]
     },
     "execution_count": 186,
     "metadata": {},
     "output_type": "execute_result"
    }
   ],
   "source": [
    "confusion_matrix(y_test, y_pred)"
   ]
  },
  {
   "cell_type": "code",
   "execution_count": 187,
   "id": "f375ed04",
   "metadata": {},
   "outputs": [
    {
     "name": "stdout",
     "output_type": "stream",
     "text": [
      "Feature importances: [0.06924477 0.01381565 0.         0.06600485 0.03161505 0.00385889\n",
      " 0.07364183 0.07176503 0.65446749 0.01558643]\n"
     ]
    }
   ],
   "source": [
    "# Feature importances\n",
    "importances = model.feature_importances_\n",
    "print(\"Feature importances:\", importances)"
   ]
  },
  {
   "cell_type": "markdown",
   "id": "43ee3344",
   "metadata": {},
   "source": [
    "# The problem is not missing data:\n",
    "\n",
    "- There is clearly a problem of overfitting. Instinctly, I would try regulatization. Let's try it and then also under vs. oversampling techniques as suggested in previous meetings."
   ]
  },
  {
   "cell_type": "markdown",
   "id": "e07520f3",
   "metadata": {},
   "source": [
    "- **Ideas:**\n",
    " - Regularization slightly improved the model F1-Score by 5%, so let's keep it\n",
    " - Next is to perform random under-sampling to improve the imbalanced class problem of this dataset"
   ]
  },
  {
   "cell_type": "markdown",
   "id": "86988057",
   "metadata": {},
   "source": [
    "### Imbalanced Classes: Random under-sampling"
   ]
  },
  {
   "cell_type": "code",
   "execution_count": 310,
   "id": "bfa5a0e7",
   "metadata": {},
   "outputs": [
    {
     "name": "stdout",
     "output_type": "stream",
     "text": [
      "y 0: (37071, 13)\n",
      "y 1: (2893, 13)\n"
     ]
    }
   ],
   "source": [
    "# class count\n",
    "class_count_0, class_count_1 = merged_df['y'].value_counts()\n",
    "\n",
    "# Separate class\n",
    "class_0 = merged_df[merged_df['y'] == 0]\n",
    "class_1 = merged_df[merged_df['y'] == 1]# print the shape of the class\n",
    "print('y 0:', class_0.shape)\n",
    "print('y 1:', class_1.shape)"
   ]
  },
  {
   "cell_type": "code",
   "execution_count": 311,
   "id": "ea8d8aea",
   "metadata": {},
   "outputs": [
    {
     "name": "stdout",
     "output_type": "stream",
     "text": [
      "total class of 1 and0: 0    2893\n",
      "1    2893\n",
      "Name: y, dtype: int64\n"
     ]
    },
    {
     "data": {
      "text/plain": [
       "<AxesSubplot:title={'center':'count (target)'}>"
      ]
     },
     "execution_count": 311,
     "metadata": {},
     "output_type": "execute_result"
    },
    {
     "data": {
      "image/png": "[encoded data removed]",
      "text/plain": [
       "<Figure size 432x288 with 1 Axes>"
      ]
     },
     "metadata": {
      "needs_background": "light"
     },
     "output_type": "display_data"
    }
   ],
   "source": [
    "class_0_under = class_0.sample(class_count_1)\n",
    "\n",
    "test_under = pd.concat([class_0_under, class_1], axis=0)\n",
    "\n",
    "print(\"total class of 1 and0:\",test_under['y'].value_counts())# plot the count after under-sampeling\n",
    "test_under['y'].value_counts().plot(kind='bar', title='count (target)')"
   ]
  },
  {
   "cell_type": "code",
   "execution_count": 312,
   "id": "85d99d84",
   "metadata": {},
   "outputs": [],
   "source": [
    "features = test_under.drop('y', axis=1)\n",
    "label = test_under['y']"
   ]
  },
  {
   "cell_type": "code",
   "execution_count": 313,
   "id": "6df680c4",
   "metadata": {},
   "outputs": [],
   "source": [
    "# Define columns to be label encoded\n",
    "columns_to_encode = ['marital', 'default', 'housing', 'loan', 'month', 'job', 'education']\n",
    "\n",
    "# For each column, apply label encoding to the copied dataframe\n",
    "for col in columns_to_encode:\n",
    "    encoder = LabelEncoder()\n",
    "    features[col] = encoder.fit_transform(features[col])"
   ]
  },
  {
   "cell_type": "code",
   "execution_count": 314,
   "id": "bdeb17d3",
   "metadata": {},
   "outputs": [],
   "source": [
    "from sklearn.preprocessing import StandardScaler\n",
    "# Define columns to be label encoded\n",
    "\n",
    "columns_to_scale = ['age', 'balance', 'day', 'duration', 'campaign']\n",
    "\n",
    "# For each column, apply label encoding to the copied dataframe\n",
    "for col in columns_to_scale:\n",
    "    scaler = StandardScaler()\n",
    "    features[col] = scaler.fit_transform(features[col].values.reshape(-1, 1))"
   ]
  },
  {
   "cell_type": "code",
   "execution_count": 315,
   "id": "1db768f4",
   "metadata": {},
   "outputs": [],
   "source": [
    "features.drop(['default', 'loan'], axis=1, inplace=True)"
   ]
  },
  {
   "cell_type": "code",
   "execution_count": 316,
   "id": "ec0443b0",
   "metadata": {},
   "outputs": [],
   "source": [
    "X_train, X_test, y_train, y_test = train_test_split(features, \n",
    "                                                    label, \n",
    "                                                    test_size=0.2, \n",
    "                                                    random_state=0)"
   ]
  },
  {
   "cell_type": "code",
   "execution_count": 317,
   "id": "cde0aee7",
   "metadata": {},
   "outputs": [
    {
     "data": {
      "text/plain": [
       "DecisionTreeClassifier(max_depth=10, min_samples_leaf=5, min_samples_split=10)"
      ]
     },
     "execution_count": 317,
     "metadata": {},
     "output_type": "execute_result"
    }
   ],
   "source": [
    "model = DecisionTreeClassifier(max_depth=10, min_samples_split=10, min_samples_leaf=5)\n",
    "model.fit(X_train,y_train)"
   ]
  },
  {
   "cell_type": "code",
   "execution_count": 318,
   "id": "a1a82807",
   "metadata": {},
   "outputs": [
    {
     "name": "stdout",
     "output_type": "stream",
     "text": [
      "Training Score is 0.8865058087578195 and Testing Score is 0.8447528187337381\n"
     ]
    }
   ],
   "source": [
    "#F1 Score\n",
    "from sklearn.metrics import f1_score, classification_report\n",
    "print(\"Training Score is {} and Testing Score is {}\".format(\n",
    "    f1_score(y_train, model.predict(X_train)),\n",
    "    f1_score(y_test, model.predict(X_test))\n",
    "))"
   ]
  },
  {
   "cell_type": "code",
   "execution_count": 319,
   "id": "76907978",
   "metadata": {},
   "outputs": [],
   "source": [
    "y_pred = model.predict(X_test)"
   ]
  },
  {
   "cell_type": "code",
   "execution_count": 320,
   "id": "050a0c27",
   "metadata": {},
   "outputs": [
    {
     "name": "stdout",
     "output_type": "stream",
     "text": [
      "              precision    recall  f1-score   support\n",
      "\n",
      "          No       0.83      0.87      0.85       568\n",
      "         Yes       0.87      0.83      0.84       590\n",
      "\n",
      "    accuracy                           0.85      1158\n",
      "   macro avg       0.85      0.85      0.85      1158\n",
      "weighted avg       0.85      0.85      0.85      1158\n",
      "\n"
     ]
    }
   ],
   "source": [
    "target_names = ['No', 'Yes']\n",
    "print(classification_report(y_test, y_pred, target_names=target_names))"
   ]
  },
  {
   "cell_type": "code",
   "execution_count": 321,
   "id": "84cf2625",
   "metadata": {},
   "outputs": [
    {
     "data": {
      "text/plain": [
       "array([[492,  76],\n",
       "       [103, 487]])"
      ]
     },
     "execution_count": 321,
     "metadata": {},
     "output_type": "execute_result"
    }
   ],
   "source": [
    "confusion_matrix(y_test, y_pred)"
   ]
  },
  {
   "cell_type": "code",
   "execution_count": 322,
   "id": "0c0eb8b8",
   "metadata": {},
   "outputs": [
    {
     "name": "stdout",
     "output_type": "stream",
     "text": [
      "Feature importances: [0.0498287  0.00626482 0.03421136 0.04133078 0.07232629 0.13959813\n",
      " 0.6296243  0.00794913 0.01728031 0.00158618]\n"
     ]
    }
   ],
   "source": [
    "# Feature importances\n",
    "importances = model.feature_importances_\n",
    "print(\"Feature importances:\", importances)"
   ]
  },
  {
   "cell_type": "markdown",
   "id": "7c39f61e",
   "metadata": {},
   "source": [
    "# IT WORKED!"
   ]
  }
 ],
 "metadata": {
  "kernelspec": {
   "display_name": "Python 3 (ipykernel)",
   "language": "python",
   "name": "python3"
  },
  "language_info": {
   "codemirror_mode": {
    "name": "ipython",
    "version": 3
   },
   "file_extension": ".py",
   "mimetype": "text/x-python",
   "name": "python",
   "nbconvert_exporter": "python",
   "pygments_lexer": "ipython3",
   "version": "3.9.13"
  }
 },
 "nbformat": 4,
 "nbformat_minor": 5
}
